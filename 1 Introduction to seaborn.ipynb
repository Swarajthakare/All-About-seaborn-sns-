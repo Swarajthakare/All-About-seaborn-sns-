{
 "cells": [
  {
   "cell_type": "markdown",
   "id": "c72874a2",
   "metadata": {},
   "source": [
    "### What is seaborn?\n",
    "- Seaborn is a Python library for data visualization build on top of the matplotlib python library.\n",
    "- Use for statistical graphics"
   ]
  },
  {
   "cell_type": "markdown",
   "id": "b222629e",
   "metadata": {},
   "source": [
    "### Seaborn Graphics\n",
    "- Heatmap\n",
    "- Pair plot\n",
    "- Facet grid\n",
    "- Bar plot\n",
    "- Scatterplot\n",
    "- Line plot\n",
    "- Distplot\n",
    "- Box plot\n",
    "- Violin plot"
   ]
  },
  {
   "cell_type": "markdown",
   "id": "ab3af292",
   "metadata": {},
   "source": [
    "### Seaborn VS Matplotlib\n",
    "- builtin function"
   ]
  },
  {
   "cell_type": "markdown",
   "id": "2e479756",
   "metadata": {},
   "source": [
    "### Dependency of seaborn\n",
    "- Python\n",
    "- numpy\n",
    "- pandas\n",
    "- matplotlib\n",
    "- scipy"
   ]
  },
  {
   "cell_type": "markdown",
   "id": "a0173318",
   "metadata": {},
   "source": [
    "### Installation of seaborn\n",
    "- pip install seaborn"
   ]
  },
  {
   "cell_type": "markdown",
   "id": "b26c0b20",
   "metadata": {},
   "source": [
    "### Importing Seaborn\n",
    "\n",
    "#matplotlib\n",
    "- from matplotlib import pyplot as plt\n",
    "- or matplotlib.pyplot as plt\n",
    " \n",
    "#seaborn\n",
    "- import seaborn as sns"
   ]
  },
  {
   "cell_type": "markdown",
   "id": "37466c5a",
   "metadata": {},
   "source": [
    "### Study materials"
   ]
  },
  {
   "cell_type": "code",
   "execution_count": null,
   "id": "52a81c05",
   "metadata": {},
   "outputs": [],
   "source": []
  }
 ],
 "metadata": {
  "kernelspec": {
   "display_name": "Python 3 (ipykernel)",
   "language": "python",
   "name": "python3"
  },
  "language_info": {
   "codemirror_mode": {
    "name": "ipython",
    "version": 3
   },
   "file_extension": ".py",
   "mimetype": "text/x-python",
   "name": "python",
   "nbconvert_exporter": "python",
   "pygments_lexer": "ipython3",
   "version": "3.9.13"
  }
 },
 "nbformat": 4,
 "nbformat_minor": 5
}
